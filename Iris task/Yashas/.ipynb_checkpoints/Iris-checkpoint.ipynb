{
 "cells": [
  {
   "cell_type": "code",
   "execution_count": 168,
   "metadata": {},
   "outputs": [],
   "source": [
    "from sklearn.model_selection import train_test_split\n",
    "from keras.models import Sequential\n",
    "from keras.layers import Dense\n",
    "import numpy\n",
    "seed=7\n",
    "numpy.random.seed(7)\n",
    "import pandas as pd\n",
    "from sklearn.utils import shuffle\n",
    "iris=pd.read_csv(\"iris.data\")\n",
    "attributes = [\"sepal_length\", \"sepal_width\", \"petal_length\", \"petal_width\", \"class\"]\n",
    "iris.columns = attributes\n",
    "iris=shuffle(iris)\n",
    "iris.loc[iris['class']=='Iris-virginica','virg']=1\n",
    "iris.loc[iris['class']=='Iris-versicolor','vers']=1\n",
    "iris.loc[iris['class']=='Iris-setosa','seto'] = 1\n",
    "iris.loc[iris['class']=='Iris-virginica','vers']=0\n",
    "iris.loc[iris['class']=='Iris-versicolor','seto']=0\n",
    "iris.loc[iris['class']=='Iris-setosa','vers'] = 0\n",
    "iris.loc[iris['class']=='Iris-virginica','seto']=0\n",
    "iris.loc[iris['class']=='Iris-versicolor','virg']=0\n",
    "iris.loc[iris['class']=='Iris-setosa','virg'] = 0\n",
    "iris=iris.drop('class',axis=1)\n",
    "iris.to_csv('irisCsv.csv', header=False, index=False)\n",
    "dataset = numpy.loadtxt(\"irisCsv.csv\", delimiter=\",\")\n",
    "X = dataset[:,0:4]\n",
    "Y = dataset[:,4:7]"
   ]
  },
  {
   "cell_type": "code",
   "execution_count": 189,
   "metadata": {},
   "outputs": [],
   "source": [
    "X_train, X_test, y_train, y_test = train_test_split(X, Y, test_size=0.3, random_state=seed)"
   ]
  },
  {
   "cell_type": "code",
   "execution_count": 190,
   "metadata": {},
   "outputs": [],
   "source": [
    "model = Sequential()\n",
    "model.add(Dense(6, input_dim=4, activation='relu'))\n",
    "model.add(Dense(3, activation='sigmoid'))"
   ]
  },
  {
   "cell_type": "code",
   "execution_count": 191,
   "metadata": {},
   "outputs": [],
   "source": [
    "# Compile model\n",
    "model.compile(loss='binary_crossentropy', optimizer='adam', metrics=['accuracy'])"
   ]
  },
  {
   "cell_type": "code",
   "execution_count": 209,
   "metadata": {},
   "outputs": [
    {
     "name": "stdout",
     "output_type": "stream",
     "text": [
      "Epoch 1/10\n",
      "104/104 [==============================] - 0s 2ms/step - loss: 0.0722 - acc: 0.9872\n",
      "Epoch 2/10\n",
      "104/104 [==============================] - 0s 1ms/step - loss: 0.0724 - acc: 0.9872\n",
      "Epoch 3/10\n",
      "104/104 [==============================] - 0s 1ms/step - loss: 0.0727 - acc: 0.9840\n",
      "Epoch 4/10\n",
      "104/104 [==============================] - 0s 1ms/step - loss: 0.0722 - acc: 0.9904\n",
      "Epoch 5/10\n",
      "104/104 [==============================] - 0s 1ms/step - loss: 0.0689 - acc: 0.9872\n",
      "Epoch 6/10\n",
      "104/104 [==============================] - 0s 1ms/step - loss: 0.0698 - acc: 0.9776\n",
      "Epoch 7/10\n",
      "104/104 [==============================] - 0s 1ms/step - loss: 0.0688 - acc: 0.9872\n",
      "Epoch 8/10\n",
      "104/104 [==============================] - 0s 1ms/step - loss: 0.0658 - acc: 0.9872\n",
      "Epoch 9/10\n",
      "104/104 [==============================] - 0s 1ms/step - loss: 0.0688 - acc: 0.9808\n",
      "Epoch 10/10\n",
      "104/104 [==============================] - 0s 1ms/step - loss: 0.0679 - acc: 0.9840\n"
     ]
    },
    {
     "data": {
      "text/plain": [
       "<keras.callbacks.History at 0x7f36c94cee80>"
      ]
     },
     "execution_count": 209,
     "metadata": {},
     "output_type": "execute_result"
    }
   ],
   "source": [
    "model.fit(X_train, y_train, epochs=10, batch_size=1)"
   ]
  },
  {
   "cell_type": "code",
   "execution_count": 210,
   "metadata": {},
   "outputs": [
    {
     "name": "stdout",
     "output_type": "stream",
     "text": [
      "45/45 [==============================] - 0s 174us/step\n",
      "\n",
      "acc: 97.04%\n"
     ]
    }
   ],
   "source": [
    "scores = model.evaluate(X_test, y_test)\n",
    "print(\"\\n%s: %.2f%%\" % (model.metrics_names[1], scores[1]*100))"
   ]
  },
  {
   "cell_type": "code",
   "execution_count": null,
   "metadata": {},
   "outputs": [],
   "source": []
  },
  {
   "cell_type": "code",
   "execution_count": null,
   "metadata": {},
   "outputs": [],
   "source": []
  },
  {
   "cell_type": "code",
   "execution_count": null,
   "metadata": {},
   "outputs": [],
   "source": []
  },
  {
   "cell_type": "code",
   "execution_count": null,
   "metadata": {},
   "outputs": [],
   "source": []
  },
  {
   "cell_type": "code",
   "execution_count": null,
   "metadata": {},
   "outputs": [],
   "source": []
  },
  {
   "cell_type": "code",
   "execution_count": null,
   "metadata": {},
   "outputs": [],
   "source": []
  },
  {
   "cell_type": "code",
   "execution_count": null,
   "metadata": {},
   "outputs": [],
   "source": []
  },
  {
   "cell_type": "code",
   "execution_count": 53,
   "metadata": {},
   "outputs": [
    {
     "ename": "NameError",
     "evalue": "name 'seed' is not defined",
     "output_type": "error",
     "traceback": [
      "\u001b[0;31m---------------------------------------------------------------------------\u001b[0m",
      "\u001b[0;31mNameError\u001b[0m                                 Traceback (most recent call last)",
      "\u001b[0;32m<ipython-input-53-7bb3ac592d3b>\u001b[0m in \u001b[0;36m<module>\u001b[0;34m\u001b[0m\n\u001b[0;32m----> 1\u001b[0;31m \u001b[0mX_train\u001b[0m\u001b[0;34m,\u001b[0m \u001b[0mX_test\u001b[0m\u001b[0;34m,\u001b[0m \u001b[0my_train\u001b[0m\u001b[0;34m,\u001b[0m \u001b[0my_test\u001b[0m \u001b[0;34m=\u001b[0m \u001b[0mtrain_test_split\u001b[0m\u001b[0;34m(\u001b[0m\u001b[0mX\u001b[0m\u001b[0;34m,\u001b[0m \u001b[0mY\u001b[0m\u001b[0;34m,\u001b[0m \u001b[0mtest_size\u001b[0m\u001b[0;34m=\u001b[0m\u001b[0;36m0.3\u001b[0m\u001b[0;34m,\u001b[0m \u001b[0mrandom_state\u001b[0m\u001b[0;34m=\u001b[0m\u001b[0mseed\u001b[0m\u001b[0;34m)\u001b[0m\u001b[0;34m\u001b[0m\u001b[0m\n\u001b[0m",
      "\u001b[0;31mNameError\u001b[0m: name 'seed' is not defined"
     ]
    }
   ],
   "source": []
  },
  {
   "cell_type": "code",
   "execution_count": null,
   "metadata": {},
   "outputs": [],
   "source": []
  },
  {
   "cell_type": "code",
   "execution_count": 17,
   "metadata": {},
   "outputs": [],
   "source": []
  },
  {
   "cell_type": "code",
   "execution_count": 19,
   "metadata": {},
   "outputs": [
    {
     "name": "stdout",
     "output_type": "stream",
     "text": [
      "Train on 99 samples, validate on 50 samples\n",
      "Epoch 1/50\n",
      "99/99 [==============================] - 0s 247us/step - loss: 0.0240 - acc: 1.0000 - val_loss: 3.8911 - val_acc: 0.3333\n",
      "Epoch 2/50\n",
      "99/99 [==============================] - 0s 151us/step - loss: 0.0225 - acc: 1.0000 - val_loss: 3.9460 - val_acc: 0.3333\n",
      "Epoch 3/50\n",
      "99/99 [==============================] - 0s 174us/step - loss: 0.0213 - acc: 1.0000 - val_loss: 4.0006 - val_acc: 0.3333\n",
      "Epoch 4/50\n",
      "99/99 [==============================] - 0s 154us/step - loss: 0.0201 - acc: 1.0000 - val_loss: 4.0472 - val_acc: 0.3333\n",
      "Epoch 5/50\n",
      "99/99 [==============================] - 0s 175us/step - loss: 0.0190 - acc: 1.0000 - val_loss: 4.1001 - val_acc: 0.3333\n",
      "Epoch 6/50\n",
      "99/99 [==============================] - 0s 160us/step - loss: 0.0180 - acc: 1.0000 - val_loss: 4.1431 - val_acc: 0.3333\n",
      "Epoch 7/50\n",
      "99/99 [==============================] - 0s 158us/step - loss: 0.0171 - acc: 1.0000 - val_loss: 4.2005 - val_acc: 0.3333\n",
      "Epoch 8/50\n",
      "99/99 [==============================] - 0s 177us/step - loss: 0.0164 - acc: 1.0000 - val_loss: 4.2597 - val_acc: 0.3333\n",
      "Epoch 9/50\n",
      "99/99 [==============================] - 0s 201us/step - loss: 0.0155 - acc: 1.0000 - val_loss: 4.3006 - val_acc: 0.3333\n",
      "Epoch 10/50\n",
      "99/99 [==============================] - 0s 204us/step - loss: 0.0148 - acc: 1.0000 - val_loss: 4.3287 - val_acc: 0.3333\n",
      "Epoch 11/50\n",
      "99/99 [==============================] - 0s 181us/step - loss: 0.0141 - acc: 1.0000 - val_loss: 4.3735 - val_acc: 0.3333\n",
      "Epoch 12/50\n",
      "99/99 [==============================] - 0s 168us/step - loss: 0.0135 - acc: 1.0000 - val_loss: 4.4236 - val_acc: 0.3333\n",
      "Epoch 13/50\n",
      "99/99 [==============================] - 0s 204us/step - loss: 0.0129 - acc: 1.0000 - val_loss: 4.4680 - val_acc: 0.3333\n",
      "Epoch 14/50\n",
      "99/99 [==============================] - 0s 168us/step - loss: 0.0124 - acc: 1.0000 - val_loss: 4.5025 - val_acc: 0.3333\n",
      "Epoch 15/50\n",
      "99/99 [==============================] - 0s 158us/step - loss: 0.0119 - acc: 1.0000 - val_loss: 4.5490 - val_acc: 0.3333\n",
      "Epoch 16/50\n",
      "99/99 [==============================] - 0s 174us/step - loss: 0.0114 - acc: 1.0000 - val_loss: 4.5888 - val_acc: 0.3333\n",
      "Epoch 17/50\n",
      "99/99 [==============================] - 0s 181us/step - loss: 0.0110 - acc: 1.0000 - val_loss: 4.6199 - val_acc: 0.3333\n",
      "Epoch 18/50\n",
      "99/99 [==============================] - 0s 149us/step - loss: 0.0106 - acc: 1.0000 - val_loss: 4.6599 - val_acc: 0.3333\n",
      "Epoch 19/50\n",
      "99/99 [==============================] - 0s 175us/step - loss: 0.0102 - acc: 1.0000 - val_loss: 4.6888 - val_acc: 0.3333\n",
      "Epoch 20/50\n",
      "99/99 [==============================] - 0s 179us/step - loss: 0.0098 - acc: 1.0000 - val_loss: 4.7299 - val_acc: 0.3333\n",
      "Epoch 21/50\n",
      "99/99 [==============================] - 0s 163us/step - loss: 0.0095 - acc: 1.0000 - val_loss: 4.7725 - val_acc: 0.3333\n",
      "Epoch 22/50\n",
      "99/99 [==============================] - 0s 169us/step - loss: 0.0091 - acc: 1.0000 - val_loss: 4.7972 - val_acc: 0.3333\n",
      "Epoch 23/50\n",
      "99/99 [==============================] - 0s 187us/step - loss: 0.0088 - acc: 1.0000 - val_loss: 4.8372 - val_acc: 0.3333\n",
      "Epoch 24/50\n",
      "99/99 [==============================] - 0s 169us/step - loss: 0.0085 - acc: 1.0000 - val_loss: 4.8711 - val_acc: 0.3333\n",
      "Epoch 25/50\n",
      "99/99 [==============================] - 0s 158us/step - loss: 0.0082 - acc: 1.0000 - val_loss: 4.9035 - val_acc: 0.3333\n",
      "Epoch 26/50\n",
      "99/99 [==============================] - 0s 173us/step - loss: 0.0080 - acc: 1.0000 - val_loss: 4.9452 - val_acc: 0.3333\n",
      "Epoch 27/50\n",
      "99/99 [==============================] - 0s 199us/step - loss: 0.0077 - acc: 1.0000 - val_loss: 4.9704 - val_acc: 0.3333\n",
      "Epoch 28/50\n",
      "99/99 [==============================] - 0s 194us/step - loss: 0.0075 - acc: 1.0000 - val_loss: 4.9945 - val_acc: 0.3333\n",
      "Epoch 29/50\n",
      "99/99 [==============================] - 0s 163us/step - loss: 0.0072 - acc: 1.0000 - val_loss: 5.0297 - val_acc: 0.3333\n",
      "Epoch 30/50\n",
      "99/99 [==============================] - 0s 169us/step - loss: 0.0070 - acc: 1.0000 - val_loss: 5.0682 - val_acc: 0.3333\n",
      "Epoch 31/50\n",
      "99/99 [==============================] - 0s 174us/step - loss: 0.0068 - acc: 1.0000 - val_loss: 5.0975 - val_acc: 0.3333\n",
      "Epoch 32/50\n",
      "99/99 [==============================] - 0s 182us/step - loss: 0.0066 - acc: 1.0000 - val_loss: 5.1289 - val_acc: 0.3333\n",
      "Epoch 33/50\n",
      "99/99 [==============================] - 0s 224us/step - loss: 0.0064 - acc: 1.0000 - val_loss: 5.1531 - val_acc: 0.3333\n",
      "Epoch 34/50\n",
      "99/99 [==============================] - 0s 189us/step - loss: 0.0062 - acc: 1.0000 - val_loss: 5.1837 - val_acc: 0.3333\n",
      "Epoch 35/50\n",
      "99/99 [==============================] - 0s 190us/step - loss: 0.0060 - acc: 1.0000 - val_loss: 5.2117 - val_acc: 0.3333\n",
      "Epoch 36/50\n",
      "99/99 [==============================] - 0s 178us/step - loss: 0.0059 - acc: 1.0000 - val_loss: 5.2431 - val_acc: 0.3333\n",
      "Epoch 37/50\n",
      "99/99 [==============================] - 0s 178us/step - loss: 0.0057 - acc: 1.0000 - val_loss: 5.2684 - val_acc: 0.3333\n",
      "Epoch 38/50\n",
      "99/99 [==============================] - 0s 258us/step - loss: 0.0056 - acc: 1.0000 - val_loss: 5.2885 - val_acc: 0.3333\n",
      "Epoch 39/50\n",
      "99/99 [==============================] - 0s 272us/step - loss: 0.0054 - acc: 1.0000 - val_loss: 5.3177 - val_acc: 0.3333\n",
      "Epoch 40/50\n",
      "99/99 [==============================] - 0s 259us/step - loss: 0.0053 - acc: 1.0000 - val_loss: 5.3494 - val_acc: 0.3333\n",
      "Epoch 41/50\n",
      "99/99 [==============================] - 0s 183us/step - loss: 0.0051 - acc: 1.0000 - val_loss: 5.3824 - val_acc: 0.3333\n",
      "Epoch 42/50\n",
      "99/99 [==============================] - 0s 221us/step - loss: 0.0050 - acc: 1.0000 - val_loss: 5.4072 - val_acc: 0.3333\n",
      "Epoch 43/50\n",
      "99/99 [==============================] - 0s 203us/step - loss: 0.0049 - acc: 1.0000 - val_loss: 5.4284 - val_acc: 0.3333\n",
      "Epoch 44/50\n",
      "99/99 [==============================] - 0s 234us/step - loss: 0.0048 - acc: 1.0000 - val_loss: 5.4551 - val_acc: 0.3333\n",
      "Epoch 45/50\n",
      "99/99 [==============================] - 0s 184us/step - loss: 0.0046 - acc: 1.0000 - val_loss: 5.4776 - val_acc: 0.3333\n",
      "Epoch 46/50\n",
      "99/99 [==============================] - 0s 202us/step - loss: 0.0045 - acc: 1.0000 - val_loss: 5.5062 - val_acc: 0.3333\n",
      "Epoch 47/50\n",
      "99/99 [==============================] - 0s 184us/step - loss: 0.0044 - acc: 1.0000 - val_loss: 5.5317 - val_acc: 0.3333\n",
      "Epoch 48/50\n",
      "99/99 [==============================] - 0s 143us/step - loss: 0.0043 - acc: 1.0000 - val_loss: 5.5523 - val_acc: 0.3333\n",
      "Epoch 49/50\n",
      "99/99 [==============================] - 0s 164us/step - loss: 0.0042 - acc: 1.0000 - val_loss: 5.5755 - val_acc: 0.3333\n",
      "Epoch 50/50\n",
      "99/99 [==============================] - 0s 179us/step - loss: 0.0041 - acc: 1.0000 - val_loss: 5.5963 - val_acc: 0.3333\n"
     ]
    },
    {
     "data": {
      "text/plain": [
       "<keras.callbacks.History at 0x7f371f31da58>"
      ]
     },
     "execution_count": 19,
     "metadata": {},
     "output_type": "execute_result"
    }
   ],
   "source": []
  },
  {
   "cell_type": "code",
   "execution_count": 20,
   "metadata": {},
   "outputs": [
    {
     "name": "stdout",
     "output_type": "stream",
     "text": [
      "149/149 [==============================] - 0s 90us/step\n",
      "\n",
      "acc: 77.63%\n"
     ]
    }
   ],
   "source": []
  },
  {
   "cell_type": "code",
   "execution_count": null,
   "metadata": {},
   "outputs": [],
   "source": []
  }
 ],
 "metadata": {
  "kernelspec": {
   "display_name": "Python 3",
   "language": "python",
   "name": "python3"
  },
  "language_info": {
   "codemirror_mode": {
    "name": "ipython",
    "version": 3
   },
   "file_extension": ".py",
   "mimetype": "text/x-python",
   "name": "python",
   "nbconvert_exporter": "python",
   "pygments_lexer": "ipython3",
   "version": "3.6.6"
  }
 },
 "nbformat": 4,
 "nbformat_minor": 2
}
