{
 "cells": [
  {
   "cell_type": "code",
   "execution_count": 168,
   "metadata": {},
   "outputs": [],
   "source": [
    "from sklearn.model_selection import train_test_split\n",
    "from keras.models import Sequential\n",
    "from keras.layers import Dense\n",
    "import numpy\n",
    "seed=7\n",
    "numpy.random.seed(7)\n",
    "import pandas as pd\n",
    "from sklearn.utils import shuffle\n",
    "iris=pd.read_csv(\"iris.data\")\n",
    "attributes = [\"sepal_length\", \"sepal_width\", \"petal_length\", \"petal_width\", \"class\"]\n",
    "iris.columns = attributes\n",
    "iris=shuffle(iris)\n",
    "iris.loc[iris['class']=='Iris-virginica','virg']=1\n",
    "iris.loc[iris['class']=='Iris-versicolor','vers']=1\n",
    "iris.loc[iris['class']=='Iris-setosa','seto'] = 1\n",
    "iris.loc[iris['class']=='Iris-virginica','vers']=0\n",
    "iris.loc[iris['class']=='Iris-versicolor','seto']=0\n",
    "iris.loc[iris['class']=='Iris-setosa','vers'] = 0\n",
    "iris.loc[iris['class']=='Iris-virginica','seto']=0\n",
    "iris.loc[iris['class']=='Iris-versicolor','virg']=0\n",
    "iris.loc[iris['class']=='Iris-setosa','virg'] = 0\n",
    "iris=iris.drop('class',axis=1)\n",
    "iris.to_csv('irisCsv.csv', header=False, index=False)\n",
    "dataset = numpy.loadtxt(\"irisCsv.csv\", delimiter=\",\")\n",
    "X = dataset[:,0:4]\n",
    "Y = dataset[:,4:7]"
   ]
  },
  {
   "cell_type": "code",
   "execution_count": 189,
   "metadata": {},
   "outputs": [],
   "source": [
    "X_train, X_test, y_train, y_test = train_test_split(X, Y, test_size=0.3, random_state=seed)"
   ]
  },
  {
   "cell_type": "code",
   "execution_count": 211,
   "metadata": {},
   "outputs": [],
   "source": [
    "model = Sequential()\n",
    "model.add(Dense(6, input_dim=4, activation='relu'))\n",
    "model.add(Dense(3, activation='softmax'))"
   ]
  },
  {
   "cell_type": "code",
   "execution_count": 212,
   "metadata": {},
   "outputs": [],
   "source": [
    "# Compile model\n",
    "model.compile(loss='binary_crossentropy', optimizer='adam', metrics=['accuracy'])"
   ]
  },
  {
   "cell_type": "code",
   "execution_count": 214,
   "metadata": {},
   "outputs": [
    {
     "name": "stdout",
     "output_type": "stream",
     "text": [
      "Epoch 1/30\n",
      "104/104 [==============================] - 0s 1ms/step - loss: 0.3776 - acc: 0.8173\n",
      "Epoch 2/30\n",
      "104/104 [==============================] - 0s 1ms/step - loss: 0.3649 - acc: 0.8141\n",
      "Epoch 3/30\n",
      "104/104 [==============================] - 0s 1ms/step - loss: 0.3537 - acc: 0.8397\n",
      "Epoch 4/30\n",
      "104/104 [==============================] - 0s 1ms/step - loss: 0.3444 - acc: 0.7853\n",
      "Epoch 5/30\n",
      "104/104 [==============================] - 0s 1ms/step - loss: 0.3341 - acc: 0.8205\n",
      "Epoch 6/30\n",
      "104/104 [==============================] - 0s 1ms/step - loss: 0.3267 - acc: 0.8365\n",
      "Epoch 7/30\n",
      "104/104 [==============================] - 0s 1ms/step - loss: 0.3210 - acc: 0.8045\n",
      "Epoch 8/30\n",
      "104/104 [==============================] - 0s 1ms/step - loss: 0.3150 - acc: 0.8173\n",
      "Epoch 9/30\n",
      "104/104 [==============================] - 0s 1ms/step - loss: 0.3105 - acc: 0.8013\n",
      "Epoch 10/30\n",
      "104/104 [==============================] - 0s 1ms/step - loss: 0.3061 - acc: 0.8782\n",
      "Epoch 11/30\n",
      "104/104 [==============================] - 0s 1ms/step - loss: 0.3013 - acc: 0.8462\n",
      "Epoch 12/30\n",
      "104/104 [==============================] - 0s 1ms/step - loss: 0.2979 - acc: 0.8365\n",
      "Epoch 13/30\n",
      "104/104 [==============================] - 0s 1ms/step - loss: 0.2942 - acc: 0.8462\n",
      "Epoch 14/30\n",
      "104/104 [==============================] - 0s 1ms/step - loss: 0.2901 - acc: 0.8494\n",
      "Epoch 15/30\n",
      "104/104 [==============================] - 0s 1ms/step - loss: 0.2873 - acc: 0.8750\n",
      "Epoch 16/30\n",
      "104/104 [==============================] - 0s 1ms/step - loss: 0.2851 - acc: 0.8718\n",
      "Epoch 17/30\n",
      "104/104 [==============================] - 0s 1ms/step - loss: 0.2803 - acc: 0.8974\n",
      "Epoch 18/30\n",
      "104/104 [==============================] - 0s 1ms/step - loss: 0.2773 - acc: 0.8686\n",
      "Epoch 19/30\n",
      "104/104 [==============================] - 0s 1ms/step - loss: 0.2744 - acc: 0.9423\n",
      "Epoch 20/30\n",
      "104/104 [==============================] - 0s 1ms/step - loss: 0.2716 - acc: 0.9199\n",
      "Epoch 21/30\n",
      "104/104 [==============================] - 0s 1ms/step - loss: 0.2675 - acc: 0.8942\n",
      "Epoch 22/30\n",
      "104/104 [==============================] - 0s 1ms/step - loss: 0.2660 - acc: 0.9199\n",
      "Epoch 23/30\n",
      "104/104 [==============================] - 0s 1ms/step - loss: 0.2614 - acc: 0.9423\n",
      "Epoch 24/30\n",
      "104/104 [==============================] - 0s 1ms/step - loss: 0.2586 - acc: 0.9551\n",
      "Epoch 25/30\n",
      "104/104 [==============================] - 0s 1ms/step - loss: 0.2577 - acc: 0.9231\n",
      "Epoch 26/30\n",
      "104/104 [==============================] - 0s 2ms/step - loss: 0.2526 - acc: 0.9583\n",
      "Epoch 27/30\n",
      "104/104 [==============================] - 0s 1ms/step - loss: 0.2492 - acc: 0.9327\n",
      "Epoch 28/30\n",
      "104/104 [==============================] - 0s 1ms/step - loss: 0.2465 - acc: 0.9519\n",
      "Epoch 29/30\n",
      "104/104 [==============================] - 0s 2ms/step - loss: 0.2439 - acc: 0.9583\n",
      "Epoch 30/30\n",
      "104/104 [==============================] - 0s 1ms/step - loss: 0.2394 - acc: 0.9744\n"
     ]
    },
    {
     "data": {
      "text/plain": [
       "<keras.callbacks.History at 0x7f36c94ce6a0>"
      ]
     },
     "execution_count": 214,
     "metadata": {},
     "output_type": "execute_result"
    }
   ],
   "source": [
    "model.fit(X_train, y_train, epochs=30, batch_size=1)"
   ]
  },
  {
   "cell_type": "code",
   "execution_count": 210,
   "metadata": {},
   "outputs": [
    {
     "name": "stdout",
     "output_type": "stream",
     "text": [
      "45/45 [==============================] - 0s 174us/step\n",
      "\n",
      "acc: 97.04%\n"
     ]
    }
   ],
   "source": [
    "scores = model.evaluate(X_test, y_test)\n",
    "print(\"\\n%s: %.2f%%\" % (model.metrics_names[1], scores[1]*100))"
   ]
  },
  {
   "cell_type": "code",
   "execution_count": null,
   "metadata": {},
   "outputs": [],
   "source": []
  },
  {
   "cell_type": "code",
   "execution_count": null,
   "metadata": {},
   "outputs": [],
   "source": []
  },
  {
   "cell_type": "code",
   "execution_count": null,
   "metadata": {},
   "outputs": [],
   "source": []
  },
  {
   "cell_type": "code",
   "execution_count": null,
   "metadata": {},
   "outputs": [],
   "source": []
  },
  {
   "cell_type": "code",
   "execution_count": null,
   "metadata": {},
   "outputs": [],
   "source": []
  },
  {
   "cell_type": "code",
   "execution_count": null,
   "metadata": {},
   "outputs": [],
   "source": []
  },
  {
   "cell_type": "code",
   "execution_count": null,
   "metadata": {},
   "outputs": [],
   "source": []
  },
  {
   "cell_type": "code",
   "execution_count": null,
   "metadata": {},
   "outputs": [],
   "source": []
  },
  {
   "cell_type": "code",
   "execution_count": null,
   "metadata": {},
   "outputs": [],
   "source": []
  },
  {
   "cell_type": "code",
   "execution_count": null,
   "metadata": {},
   "outputs": [],
   "source": []
  },
  {
   "cell_type": "code",
   "execution_count": null,
   "metadata": {},
   "outputs": [],
   "source": []
  },
  {
   "cell_type": "code",
   "execution_count": null,
   "metadata": {},
   "outputs": [],
   "source": []
  },
  {
   "cell_type": "code",
   "execution_count": null,
   "metadata": {},
   "outputs": [],
   "source": []
  },
  {
   "cell_type": "code",
   "execution_count": null,
   "metadata": {},
   "outputs": [],
   "source": []
  }
 ],
 "metadata": {
  "kernelspec": {
   "display_name": "Python 3",
   "language": "python",
   "name": "python3"
  },
  "language_info": {
   "codemirror_mode": {
    "name": "ipython",
    "version": 3
   },
   "file_extension": ".py",
   "mimetype": "text/x-python",
   "name": "python",
   "nbconvert_exporter": "python",
   "pygments_lexer": "ipython3",
   "version": "3.6.6"
  }
 },
 "nbformat": 4,
 "nbformat_minor": 2
}
