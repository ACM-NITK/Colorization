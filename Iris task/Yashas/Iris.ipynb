{
 "cells": [
  {
   "cell_type": "code",
   "execution_count": 168,
   "metadata": {},
   "outputs": [],
   "source": [
    "from sklearn.model_selection import train_test_split\n",
    "from keras.models import Sequential\n",
    "from keras.layers import Dense\n",
    "import numpy\n",
    "seed=7\n",
    "numpy.random.seed(7)\n",
    "import pandas as pd\n",
    "from sklearn.utils import shuffle\n",
    "iris=pd.read_csv(\"iris.data\")\n",
    "attributes = [\"sepal_length\", \"sepal_width\", \"petal_length\", \"petal_width\", \"class\"]\n",
    "iris.columns = attributes\n",
    "iris=shuffle(iris)\n",
    "iris.loc[iris['class']=='Iris-virginica','virg']=1\n",
    "iris.loc[iris['class']=='Iris-versicolor','vers']=1\n",
    "iris.loc[iris['class']=='Iris-setosa','seto'] = 1\n",
    "iris.loc[iris['class']=='Iris-virginica','vers']=0\n",
    "iris.loc[iris['class']=='Iris-versicolor','seto']=0\n",
    "iris.loc[iris['class']=='Iris-setosa','vers'] = 0\n",
    "iris.loc[iris['class']=='Iris-virginica','seto']=0\n",
    "iris.loc[iris['class']=='Iris-versicolor','virg']=0\n",
    "iris.loc[iris['class']=='Iris-setosa','virg'] = 0\n",
    "iris=iris.drop('class',axis=1)\n",
    "iris.to_csv('irisCsv.csv', header=False, index=False)\n",
    "dataset = numpy.loadtxt(\"irisCsv.csv\", delimiter=\",\")\n",
    "X = dataset[:,0:4]\n",
    "Y = dataset[:,4:7]"
   ]
  },
  {
   "cell_type": "code",
   "execution_count": 189,
   "metadata": {},
   "outputs": [],
   "source": [
    "X_train, X_test, y_train, y_test = train_test_split(X, Y, test_size=0.3, random_state=seed)"
   ]
  },
  {
   "cell_type": "code",
   "execution_count": 190,
   "metadata": {},
   "outputs": [],
   "source": [
    "model = Sequential()\n",
    "model.add(Dense(6, input_dim=4, activation='relu'))\n",
    "model.add(Dense(3, activation='sigmoid'))"
   ]
  },
  {
   "cell_type": "code",
   "execution_count": 191,
   "metadata": {},
   "outputs": [],
   "source": [
    "# Compile model\n",
    "model.compile(loss='binary_crossentropy', optimizer='adam', metrics=['accuracy'])"
   ]
  },
  {
   "cell_type": "code",
   "execution_count": 209,
   "metadata": {},
   "outputs": [
    {
     "name": "stdout",
     "output_type": "stream",
     "text": [
      "Epoch 1/10\n",
      "104/104 [==============================] - 0s 2ms/step - loss: 0.0722 - acc: 0.9872\n",
      "Epoch 2/10\n",
      "104/104 [==============================] - 0s 1ms/step - loss: 0.0724 - acc: 0.9872\n",
      "Epoch 3/10\n",
      "104/104 [==============================] - 0s 1ms/step - loss: 0.0727 - acc: 0.9840\n",
      "Epoch 4/10\n",
      "104/104 [==============================] - 0s 1ms/step - loss: 0.0722 - acc: 0.9904\n",
      "Epoch 5/10\n",
      "104/104 [==============================] - 0s 1ms/step - loss: 0.0689 - acc: 0.9872\n",
      "Epoch 6/10\n",
      "104/104 [==============================] - 0s 1ms/step - loss: 0.0698 - acc: 0.9776\n",
      "Epoch 7/10\n",
      "104/104 [==============================] - 0s 1ms/step - loss: 0.0688 - acc: 0.9872\n",
      "Epoch 8/10\n",
      "104/104 [==============================] - 0s 1ms/step - loss: 0.0658 - acc: 0.9872\n",
      "Epoch 9/10\n",
      "104/104 [==============================] - 0s 1ms/step - loss: 0.0688 - acc: 0.9808\n",
      "Epoch 10/10\n",
      "104/104 [==============================] - 0s 1ms/step - loss: 0.0679 - acc: 0.9840\n"
     ]
    },
    {
     "data": {
      "text/plain": [
       "<keras.callbacks.History at 0x7f36c94cee80>"
      ]
     },
     "execution_count": 209,
     "metadata": {},
     "output_type": "execute_result"
    }
   ],
   "source": [
    "model.fit(X_train, y_train, epochs=10, batch_size=1)"
   ]
  },
  {
   "cell_type": "code",
   "execution_count": 210,
   "metadata": {},
   "outputs": [
    {
     "name": "stdout",
     "output_type": "stream",
     "text": [
      "45/45 [==============================] - 0s 174us/step\n",
      "\n",
      "acc: 97.04%\n"
     ]
    }
   ],
   "source": [
    "scores = model.evaluate(X_test, y_test)\n",
    "print(\"\\n%s: %.2f%%\" % (model.metrics_names[1], scores[1]*100))"
   ]
  },
  {
   "cell_type": "code",
   "execution_count": null,
   "metadata": {},
   "outputs": [],
   "source": []
  },
  {
   "cell_type": "code",
   "execution_count": null,
   "metadata": {},
   "outputs": [],
   "source": []
  },
  {
   "cell_type": "code",
   "execution_count": null,
   "metadata": {},
   "outputs": [],
   "source": []
  },
  {
   "cell_type": "code",
   "execution_count": null,
   "metadata": {},
   "outputs": [],
   "source": []
  },
  {
   "cell_type": "code",
   "execution_count": null,
   "metadata": {},
   "outputs": [],
   "source": []
  },
  {
   "cell_type": "code",
   "execution_count": null,
   "metadata": {},
   "outputs": [],
   "source": []
  },
  {
   "cell_type": "code",
   "execution_count": null,
   "metadata": {},
   "outputs": [],
   "source": []
  },
  {
   "cell_type": "code",
   "execution_count": null,
   "metadata": {},
   "outputs": [],
   "source": []
  },
  {
   "cell_type": "code",
   "execution_count": null,
   "metadata": {},
   "outputs": [],
   "source": []
  },
  {
   "cell_type": "code",
   "execution_count": null,
   "metadata": {},
   "outputs": [],
   "source": []
  },
  {
   "cell_type": "code",
   "execution_count": null,
   "metadata": {},
   "outputs": [],
   "source": []
  },
  {
   "cell_type": "code",
   "execution_count": null,
   "metadata": {},
   "outputs": [],
   "source": []
  },
  {
   "cell_type": "code",
   "execution_count": null,
   "metadata": {},
   "outputs": [],
   "source": []
  },
  {
   "cell_type": "code",
   "execution_count": null,
   "metadata": {},
   "outputs": [],
   "source": []
  }
 ],
 "metadata": {
  "kernelspec": {
   "display_name": "Python 3",
   "language": "python",
   "name": "python3"
  },
  "language_info": {
   "codemirror_mode": {
    "name": "ipython",
    "version": 3
   },
   "file_extension": ".py",
   "mimetype": "text/x-python",
   "name": "python",
   "nbconvert_exporter": "python",
   "pygments_lexer": "ipython3",
   "version": "3.6.6"
  }
 },
 "nbformat": 4,
 "nbformat_minor": 2
}
