{
 "cells": [
  {
   "cell_type": "code",
   "execution_count": 168,
   "metadata": {},
   "outputs": [],
   "source": [
    "from sklearn.model_selection import train_test_split\n",
    "from keras.models import Sequential\n",
    "from keras.layers import Dense\n",
    "import numpy\n",
    "seed=7\n",
    "numpy.random.seed(7)\n",
    "import pandas as pd\n",
    "from sklearn.utils import shuffle\n",
    "iris=pd.read_csv(\"iris.data\")\n",
    "attributes = [\"sepal_length\", \"sepal_width\", \"petal_length\", \"petal_width\", \"class\"]\n",
    "iris.columns = attributes\n",
    "iris=shuffle(iris)\n",
    "iris.loc[iris['class']=='Iris-virginica','virg']=1\n",
    "iris.loc[iris['class']=='Iris-versicolor','vers']=1\n",
    "iris.loc[iris['class']=='Iris-setosa','seto'] = 1\n",
    "iris.loc[iris['class']=='Iris-virginica','vers']=0\n",
    "iris.loc[iris['class']=='Iris-versicolor','seto']=0\n",
    "iris.loc[iris['class']=='Iris-setosa','vers'] = 0\n",
    "iris.loc[iris['class']=='Iris-virginica','seto']=0\n",
    "iris.loc[iris['class']=='Iris-versicolor','virg']=0\n",
    "iris.loc[iris['class']=='Iris-setosa','virg'] = 0\n",
    "iris=iris.drop('class',axis=1)\n",
    "iris.to_csv('irisCsv.csv', header=False, index=False)\n",
    "dataset = numpy.loadtxt(\"irisCsv.csv\", delimiter=\",\")\n",
    "X = dataset[:,0:4]\n",
    "Y = dataset[:,4:7]"
   ]
  },
  {
   "cell_type": "code",
   "execution_count": 227,
   "metadata": {},
   "outputs": [],
   "source": [
    "X_train, X_test, y_train, y_test = train_test_split(X, Y, test_size=0.3, random_state=seed)"
   ]
  },
  {
   "cell_type": "code",
   "execution_count": 228,
   "metadata": {},
   "outputs": [],
   "source": [
    "model = Sequential()\n",
    "model.add(Dense(6, input_dim=4, activation='relu'))\n",
    "model.add(Dense(3, activation='softmax'))"
   ]
  },
  {
   "cell_type": "code",
   "execution_count": 229,
   "metadata": {},
   "outputs": [],
   "source": [
    "# Compile model\n",
    "model.compile(loss='categorical_crossentropy', optimizer='adam', metrics=['accuracy'])"
   ]
  },
  {
   "cell_type": "code",
   "execution_count": 230,
   "metadata": {},
   "outputs": [
    {
     "name": "stdout",
     "output_type": "stream",
     "text": [
      "Train on 104 samples, validate on 45 samples\n",
      "Epoch 1/30\n",
      "104/104 [==============================] - 1s 8ms/step - loss: 1.3321 - acc: 0.3077 - val_loss: 1.2054 - val_acc: 0.3778\n",
      "Epoch 2/30\n",
      "104/104 [==============================] - 0s 296us/step - loss: 1.2164 - acc: 0.3077 - val_loss: 1.1241 - val_acc: 0.4667\n",
      "Epoch 3/30\n",
      "104/104 [==============================] - 0s 269us/step - loss: 1.1282 - acc: 0.5385 - val_loss: 1.0732 - val_acc: 0.6889\n",
      "Epoch 4/30\n",
      "104/104 [==============================] - 0s 255us/step - loss: 1.0717 - acc: 0.6538 - val_loss: 1.0338 - val_acc: 0.6889\n",
      "Epoch 5/30\n",
      "104/104 [==============================] - 0s 311us/step - loss: 1.0246 - acc: 0.6538 - val_loss: 1.0046 - val_acc: 0.6889\n",
      "Epoch 6/30\n",
      "104/104 [==============================] - 0s 234us/step - loss: 0.9917 - acc: 0.6538 - val_loss: 0.9743 - val_acc: 0.6889\n",
      "Epoch 7/30\n",
      "104/104 [==============================] - 0s 252us/step - loss: 0.9586 - acc: 0.6538 - val_loss: 0.9500 - val_acc: 0.6889\n",
      "Epoch 8/30\n",
      "104/104 [==============================] - 0s 281us/step - loss: 0.9305 - acc: 0.6538 - val_loss: 0.9287 - val_acc: 0.6889\n",
      "Epoch 9/30\n",
      "104/104 [==============================] - 0s 238us/step - loss: 0.9088 - acc: 0.6538 - val_loss: 0.9099 - val_acc: 0.6889\n",
      "Epoch 10/30\n",
      "104/104 [==============================] - 0s 239us/step - loss: 0.8874 - acc: 0.6538 - val_loss: 0.8943 - val_acc: 0.6889\n",
      "Epoch 11/30\n",
      "104/104 [==============================] - 0s 195us/step - loss: 0.8694 - acc: 0.6538 - val_loss: 0.8811 - val_acc: 0.6889\n",
      "Epoch 12/30\n",
      "104/104 [==============================] - 0s 195us/step - loss: 0.8547 - acc: 0.6538 - val_loss: 0.8657 - val_acc: 0.6889\n",
      "Epoch 13/30\n",
      "104/104 [==============================] - 0s 192us/step - loss: 0.8395 - acc: 0.6538 - val_loss: 0.8499 - val_acc: 0.6889\n",
      "Epoch 14/30\n",
      "104/104 [==============================] - 0s 237us/step - loss: 0.8255 - acc: 0.6635 - val_loss: 0.8377 - val_acc: 0.6889\n",
      "Epoch 15/30\n",
      "104/104 [==============================] - 0s 227us/step - loss: 0.8145 - acc: 0.6731 - val_loss: 0.8261 - val_acc: 0.6889\n",
      "Epoch 16/30\n",
      "104/104 [==============================] - 0s 256us/step - loss: 0.8008 - acc: 0.6635 - val_loss: 0.8191 - val_acc: 0.6889\n",
      "Epoch 17/30\n",
      "104/104 [==============================] - 0s 218us/step - loss: 0.7890 - acc: 0.6731 - val_loss: 0.8082 - val_acc: 0.6889\n",
      "Epoch 18/30\n",
      "104/104 [==============================] - 0s 278us/step - loss: 0.7769 - acc: 0.6827 - val_loss: 0.7972 - val_acc: 0.7111\n",
      "Epoch 19/30\n",
      "104/104 [==============================] - 0s 228us/step - loss: 0.7660 - acc: 0.7404 - val_loss: 0.7854 - val_acc: 0.7556\n",
      "Epoch 20/30\n",
      "104/104 [==============================] - 0s 260us/step - loss: 0.7561 - acc: 0.7788 - val_loss: 0.7757 - val_acc: 0.7778\n",
      "Epoch 21/30\n",
      "104/104 [==============================] - 0s 295us/step - loss: 0.7449 - acc: 0.7692 - val_loss: 0.7661 - val_acc: 0.7778\n",
      "Epoch 22/30\n",
      "104/104 [==============================] - 0s 279us/step - loss: 0.7350 - acc: 0.8077 - val_loss: 0.7555 - val_acc: 0.8222\n",
      "Epoch 23/30\n",
      "104/104 [==============================] - 0s 340us/step - loss: 0.7252 - acc: 0.8365 - val_loss: 0.7461 - val_acc: 0.8222\n",
      "Epoch 24/30\n",
      "104/104 [==============================] - 0s 316us/step - loss: 0.7136 - acc: 0.8269 - val_loss: 0.7376 - val_acc: 0.7778\n",
      "Epoch 25/30\n",
      "104/104 [==============================] - 0s 327us/step - loss: 0.7044 - acc: 0.7981 - val_loss: 0.7276 - val_acc: 0.8000\n",
      "Epoch 26/30\n",
      "104/104 [==============================] - 0s 312us/step - loss: 0.6944 - acc: 0.7981 - val_loss: 0.7184 - val_acc: 0.8000\n",
      "Epoch 27/30\n",
      "104/104 [==============================] - 0s 284us/step - loss: 0.6853 - acc: 0.7885 - val_loss: 0.7091 - val_acc: 0.7778\n",
      "Epoch 28/30\n",
      "104/104 [==============================] - 0s 326us/step - loss: 0.6753 - acc: 0.8077 - val_loss: 0.6992 - val_acc: 0.8222\n",
      "Epoch 29/30\n",
      "104/104 [==============================] - 0s 338us/step - loss: 0.6661 - acc: 0.8269 - val_loss: 0.6891 - val_acc: 0.8222\n",
      "Epoch 30/30\n",
      "104/104 [==============================] - 0s 311us/step - loss: 0.6580 - acc: 0.8269 - val_loss: 0.6807 - val_acc: 0.8222\n"
     ]
    },
    {
     "data": {
      "text/plain": [
       "<keras.callbacks.History at 0x7f36c781ac88>"
      ]
     },
     "execution_count": 230,
     "metadata": {},
     "output_type": "execute_result"
    }
   ],
   "source": [
    "model.fit(X_train, y_train,validation_data=(X_test,y_test), epochs=30, batch_size=10)"
   ]
  },
  {
   "cell_type": "code",
   "execution_count": 231,
   "metadata": {},
   "outputs": [
    {
     "name": "stdout",
     "output_type": "stream",
     "text": [
      "45/45 [==============================] - 0s 90us/step\n",
      "\n",
      "acc: 82.22%\n"
     ]
    }
   ],
   "source": [
    "scores = model.evaluate(X_test, y_test)\n",
    "print(\"\\n%s: %.2f%%\" % (model.metrics_names[1], scores[1]*100))"
   ]
  },
  {
   "cell_type": "code",
   "execution_count": null,
   "metadata": {},
   "outputs": [],
   "source": []
  },
  {
   "cell_type": "code",
   "execution_count": null,
   "metadata": {},
   "outputs": [],
   "source": []
  },
  {
   "cell_type": "code",
   "execution_count": null,
   "metadata": {},
   "outputs": [],
   "source": []
  },
  {
   "cell_type": "code",
   "execution_count": null,
   "metadata": {},
   "outputs": [],
   "source": []
  },
  {
   "cell_type": "code",
   "execution_count": null,
   "metadata": {},
   "outputs": [],
   "source": []
  },
  {
   "cell_type": "code",
   "execution_count": null,
   "metadata": {},
   "outputs": [],
   "source": []
  },
  {
   "cell_type": "code",
   "execution_count": null,
   "metadata": {},
   "outputs": [],
   "source": []
  },
  {
   "cell_type": "code",
   "execution_count": null,
   "metadata": {},
   "outputs": [],
   "source": []
  },
  {
   "cell_type": "code",
   "execution_count": null,
   "metadata": {},
   "outputs": [],
   "source": []
  },
  {
   "cell_type": "code",
   "execution_count": null,
   "metadata": {},
   "outputs": [],
   "source": []
  },
  {
   "cell_type": "code",
   "execution_count": null,
   "metadata": {},
   "outputs": [],
   "source": []
  },
  {
   "cell_type": "code",
   "execution_count": null,
   "metadata": {},
   "outputs": [],
   "source": []
  },
  {
   "cell_type": "code",
   "execution_count": null,
   "metadata": {},
   "outputs": [],
   "source": []
  },
  {
   "cell_type": "code",
   "execution_count": null,
   "metadata": {},
   "outputs": [],
   "source": []
  }
 ],
 "metadata": {
  "kernelspec": {
   "display_name": "Python 3",
   "language": "python",
   "name": "python3"
  },
  "language_info": {
   "codemirror_mode": {
    "name": "ipython",
    "version": 3
   },
   "file_extension": ".py",
   "mimetype": "text/x-python",
   "name": "python",
   "nbconvert_exporter": "python",
   "pygments_lexer": "ipython3",
   "version": "3.6.6"
  }
 },
 "nbformat": 4,
 "nbformat_minor": 2
}
