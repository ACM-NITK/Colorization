{
 "cells": [
  {
   "cell_type": "code",
   "execution_count": 62,
   "metadata": {},
   "outputs": [],
   "source": [
    "from PIL import Image\n",
    "import cv2\n",
    "import numpy as np\n",
    "import pandas as pd\n",
    "import sys\n",
    "import os\n",
    "import csv\n",
    "import statistics"
   ]
  },
  {
   "cell_type": "code",
   "execution_count": 63,
   "metadata": {},
   "outputs": [],
   "source": [
    "img_dir=\"images\""
   ]
  },
  {
   "cell_type": "code",
   "execution_count": 64,
   "metadata": {},
   "outputs": [],
   "source": [
    "import pandas\n",
    "df = pandas.read_csv('/home/yashas/Desktop/work/ML/Try/FacReg/facial_expressions/data/legend (copy).csv')"
   ]
  },
  {
   "cell_type": "code",
   "execution_count": 65,
   "metadata": {},
   "outputs": [
    {
     "data": {
      "text/plain": [
       "array(['anger', 'surprise', 'disgust', 'fear', 'neutral', 'happiness',\n",
       "       'sadness', 'contempt', 'NEUTRAL', 'SADNESS', 'DISGUST', 'FEAR',\n",
       "       'SURPRISE', 'ANGER', 'HAPPINESS'], dtype=object)"
      ]
     },
     "execution_count": 65,
     "metadata": {},
     "output_type": "execute_result"
    }
   ],
   "source": [
    "df['emotion'].unique()"
   ]
  },
  {
   "cell_type": "code",
   "execution_count": 66,
   "metadata": {},
   "outputs": [],
   "source": [
    "df.loc[df['emotion']=='NEUTRAL','emotion']='neutral'\n",
    "df.loc[df['emotion']=='SADNESS','emotion']='sadness'\n",
    "df.loc[df['emotion']=='DISGUST','emotion']='disgust'\n",
    "df.loc[df['emotion']=='FEAR','emotion']='fear'\n",
    "df.loc[df['emotion']=='SURPRISE','emotion']='surprise'\n",
    "df.loc[df['emotion']=='ANGER','emotion']='anger'\n",
    "df.loc[df['emotion']=='HAPPINESS','emotion']='happiness'"
   ]
  },
  {
   "cell_type": "code",
   "execution_count": 67,
   "metadata": {},
   "outputs": [
    {
     "data": {
      "text/plain": [
       "array(['anger', 'surprise', 'disgust', 'fear', 'neutral', 'happiness',\n",
       "       'sadness', 'contempt'], dtype=object)"
      ]
     },
     "execution_count": 67,
     "metadata": {},
     "output_type": "execute_result"
    }
   ],
   "source": [
    "df.emotion.unique()"
   ]
  },
  {
   "cell_type": "code",
   "execution_count": 68,
   "metadata": {},
   "outputs": [],
   "source": [
    "df.loc[df['emotion']=='anger','emotic']=0\n",
    "df.loc[df['emotion']=='surprise','emotic']=1\n",
    "df.loc[df['emotion']=='disgust','emotic']=2\n",
    "df.loc[df['emotion']=='fear','emotic']=3\n",
    "df.loc[df['emotion']=='neutral','emotic']=4\n",
    "df.loc[df['emotion']=='happiness','emotic']=5\n",
    "df.loc[df['emotion']=='sadness','emotic']=6\n",
    "df.loc[df['emotion']=='contempt','emotic']=7"
   ]
  },
  {
   "cell_type": "code",
   "execution_count": 69,
   "metadata": {},
   "outputs": [
    {
     "data": {
      "text/html": [
       "<div>\n",
       "<style scoped>\n",
       "    .dataframe tbody tr th:only-of-type {\n",
       "        vertical-align: middle;\n",
       "    }\n",
       "\n",
       "    .dataframe tbody tr th {\n",
       "        vertical-align: top;\n",
       "    }\n",
       "\n",
       "    .dataframe thead th {\n",
       "        text-align: right;\n",
       "    }\n",
       "</style>\n",
       "<table border=\"1\" class=\"dataframe\">\n",
       "  <thead>\n",
       "    <tr style=\"text-align: right;\">\n",
       "      <th></th>\n",
       "      <th>user.id</th>\n",
       "      <th>image</th>\n",
       "      <th>emotion</th>\n",
       "      <th>emotic</th>\n",
       "    </tr>\n",
       "  </thead>\n",
       "  <tbody>\n",
       "    <tr>\n",
       "      <th>0</th>\n",
       "      <td>628</td>\n",
       "      <td>facial-expressions_2868588k.jpg</td>\n",
       "      <td>anger</td>\n",
       "      <td>0.0</td>\n",
       "    </tr>\n",
       "    <tr>\n",
       "      <th>1</th>\n",
       "      <td>628</td>\n",
       "      <td>facial-expressions_2868585k.jpg</td>\n",
       "      <td>surprise</td>\n",
       "      <td>1.0</td>\n",
       "    </tr>\n",
       "    <tr>\n",
       "      <th>2</th>\n",
       "      <td>628</td>\n",
       "      <td>facial-expressions_2868584k.jpg</td>\n",
       "      <td>disgust</td>\n",
       "      <td>2.0</td>\n",
       "    </tr>\n",
       "    <tr>\n",
       "      <th>3</th>\n",
       "      <td>628</td>\n",
       "      <td>facial-expressions_2868582k.jpg</td>\n",
       "      <td>fear</td>\n",
       "      <td>3.0</td>\n",
       "    </tr>\n",
       "    <tr>\n",
       "      <th>4</th>\n",
       "      <td>dwdii</td>\n",
       "      <td>Aaron_Eckhart_0001.jpg</td>\n",
       "      <td>neutral</td>\n",
       "      <td>4.0</td>\n",
       "    </tr>\n",
       "  </tbody>\n",
       "</table>\n",
       "</div>"
      ],
      "text/plain": [
       "  user.id                            image   emotion  emotic\n",
       "0     628  facial-expressions_2868588k.jpg     anger     0.0\n",
       "1     628  facial-expressions_2868585k.jpg  surprise     1.0\n",
       "2     628  facial-expressions_2868584k.jpg   disgust     2.0\n",
       "3     628  facial-expressions_2868582k.jpg      fear     3.0\n",
       "4   dwdii           Aaron_Eckhart_0001.jpg   neutral     4.0"
      ]
     },
     "execution_count": 69,
     "metadata": {},
     "output_type": "execute_result"
    }
   ],
   "source": [
    "df.head()"
   ]
  },
  {
   "cell_type": "code",
   "execution_count": 70,
   "metadata": {},
   "outputs": [
    {
     "data": {
      "text/plain": [
       "5"
      ]
     },
     "execution_count": 70,
     "metadata": {},
     "output_type": "execute_result"
    }
   ],
   "source": [
    "import statistics\n",
    "int(statistics.mean(df.loc[df['image']==df.image[7270],'emotic']))"
   ]
  },
  {
   "cell_type": "code",
   "execution_count": 71,
   "metadata": {},
   "outputs": [
    {
     "data": {
      "text/plain": [
       "7270    5.0\n",
       "7328    5.0\n",
       "Name: emotic, dtype: float64"
      ]
     },
     "execution_count": 71,
     "metadata": {},
     "output_type": "execute_result"
    }
   ],
   "source": [
    "(df.loc[df['image']==df.image[7270],'emotic'])"
   ]
  },
  {
   "cell_type": "code",
   "execution_count": 72,
   "metadata": {},
   "outputs": [
    {
     "data": {
      "text/plain": [
       "2"
      ]
     },
     "execution_count": 72,
     "metadata": {},
     "output_type": "execute_result"
    }
   ],
   "source": [
    "int(df.loc[df['image']==\"facial-expressions_2868584k.jpg\",'emotic'])"
   ]
  },
  {
   "cell_type": "code",
   "execution_count": 73,
   "metadata": {},
   "outputs": [],
   "source": [
    "for img in df.image[1:]:\n",
    "    img_file = Image.open(os.path.join(img_dir,img))\n",
    "    img_file = img_file.resize((28,28), Image.ANTIALIAS)\n",
    "    img_grey=img_file.convert('L')\n",
    "    x=np.asarray(img_grey.getdata(), dtype=np.int)\n",
    "    y=np.append(x,int(statistics.mean(df.loc[df['image']==img,'emotic'])))\n",
    "    with open(\"dataset.csv\", 'a') as f:\n",
    "        writer = csv.writer(f)\n",
    "        writer.writerow(y)"
   ]
  },
  {
   "cell_type": "code",
   "execution_count": 74,
   "metadata": {},
   "outputs": [],
   "source": [
    "x=pd.read_csv('dataset.csv')"
   ]
  },
  {
   "cell_type": "code",
   "execution_count": 75,
   "metadata": {},
   "outputs": [
    {
     "data": {
      "text/html": [
       "<div>\n",
       "<style scoped>\n",
       "    .dataframe tbody tr th:only-of-type {\n",
       "        vertical-align: middle;\n",
       "    }\n",
       "\n",
       "    .dataframe tbody tr th {\n",
       "        vertical-align: top;\n",
       "    }\n",
       "\n",
       "    .dataframe thead th {\n",
       "        text-align: right;\n",
       "    }\n",
       "</style>\n",
       "<table border=\"1\" class=\"dataframe\">\n",
       "  <thead>\n",
       "    <tr style=\"text-align: right;\">\n",
       "      <th></th>\n",
       "      <th>196</th>\n",
       "      <th>195</th>\n",
       "      <th>195.1</th>\n",
       "      <th>198</th>\n",
       "      <th>197</th>\n",
       "      <th>200</th>\n",
       "      <th>210</th>\n",
       "      <th>193</th>\n",
       "      <th>146</th>\n",
       "      <th>102</th>\n",
       "      <th>...</th>\n",
       "      <th>130.6</th>\n",
       "      <th>144.7</th>\n",
       "      <th>141.7</th>\n",
       "      <th>63.3</th>\n",
       "      <th>53.7</th>\n",
       "      <th>49.1</th>\n",
       "      <th>51.3</th>\n",
       "      <th>65.2</th>\n",
       "      <th>64.3</th>\n",
       "      <th>1</th>\n",
       "    </tr>\n",
       "  </thead>\n",
       "  <tbody>\n",
       "    <tr>\n",
       "      <th>0</th>\n",
       "      <td>195</td>\n",
       "      <td>196</td>\n",
       "      <td>198</td>\n",
       "      <td>198</td>\n",
       "      <td>197</td>\n",
       "      <td>194</td>\n",
       "      <td>196</td>\n",
       "      <td>206</td>\n",
       "      <td>202</td>\n",
       "      <td>184</td>\n",
       "      <td>...</td>\n",
       "      <td>141</td>\n",
       "      <td>148</td>\n",
       "      <td>141</td>\n",
       "      <td>65</td>\n",
       "      <td>53</td>\n",
       "      <td>56</td>\n",
       "      <td>61</td>\n",
       "      <td>51</td>\n",
       "      <td>58</td>\n",
       "      <td>2</td>\n",
       "    </tr>\n",
       "    <tr>\n",
       "      <th>1</th>\n",
       "      <td>198</td>\n",
       "      <td>199</td>\n",
       "      <td>198</td>\n",
       "      <td>197</td>\n",
       "      <td>197</td>\n",
       "      <td>202</td>\n",
       "      <td>213</td>\n",
       "      <td>200</td>\n",
       "      <td>167</td>\n",
       "      <td>114</td>\n",
       "      <td>...</td>\n",
       "      <td>139</td>\n",
       "      <td>135</td>\n",
       "      <td>149</td>\n",
       "      <td>102</td>\n",
       "      <td>50</td>\n",
       "      <td>56</td>\n",
       "      <td>50</td>\n",
       "      <td>60</td>\n",
       "      <td>70</td>\n",
       "      <td>3</td>\n",
       "    </tr>\n",
       "    <tr>\n",
       "      <th>2</th>\n",
       "      <td>16</td>\n",
       "      <td>38</td>\n",
       "      <td>57</td>\n",
       "      <td>54</td>\n",
       "      <td>63</td>\n",
       "      <td>71</td>\n",
       "      <td>74</td>\n",
       "      <td>84</td>\n",
       "      <td>97</td>\n",
       "      <td>91</td>\n",
       "      <td>...</td>\n",
       "      <td>65</td>\n",
       "      <td>59</td>\n",
       "      <td>45</td>\n",
       "      <td>61</td>\n",
       "      <td>70</td>\n",
       "      <td>61</td>\n",
       "      <td>64</td>\n",
       "      <td>60</td>\n",
       "      <td>58</td>\n",
       "      <td>4</td>\n",
       "    </tr>\n",
       "    <tr>\n",
       "      <th>3</th>\n",
       "      <td>10</td>\n",
       "      <td>22</td>\n",
       "      <td>41</td>\n",
       "      <td>48</td>\n",
       "      <td>51</td>\n",
       "      <td>51</td>\n",
       "      <td>59</td>\n",
       "      <td>73</td>\n",
       "      <td>76</td>\n",
       "      <td>79</td>\n",
       "      <td>...</td>\n",
       "      <td>119</td>\n",
       "      <td>103</td>\n",
       "      <td>90</td>\n",
       "      <td>81</td>\n",
       "      <td>76</td>\n",
       "      <td>53</td>\n",
       "      <td>30</td>\n",
       "      <td>33</td>\n",
       "      <td>36</td>\n",
       "      <td>5</td>\n",
       "    </tr>\n",
       "    <tr>\n",
       "      <th>4</th>\n",
       "      <td>91</td>\n",
       "      <td>91</td>\n",
       "      <td>91</td>\n",
       "      <td>88</td>\n",
       "      <td>70</td>\n",
       "      <td>66</td>\n",
       "      <td>76</td>\n",
       "      <td>91</td>\n",
       "      <td>108</td>\n",
       "      <td>132</td>\n",
       "      <td>...</td>\n",
       "      <td>80</td>\n",
       "      <td>70</td>\n",
       "      <td>68</td>\n",
       "      <td>70</td>\n",
       "      <td>72</td>\n",
       "      <td>67</td>\n",
       "      <td>72</td>\n",
       "      <td>91</td>\n",
       "      <td>112</td>\n",
       "      <td>4</td>\n",
       "    </tr>\n",
       "  </tbody>\n",
       "</table>\n",
       "<p>5 rows × 785 columns</p>\n",
       "</div>"
      ],
      "text/plain": [
       "   196  195  195.1  198  197  200  210  193  146  102 ...  130.6  144.7  \\\n",
       "0  195  196    198  198  197  194  196  206  202  184 ...    141    148   \n",
       "1  198  199    198  197  197  202  213  200  167  114 ...    139    135   \n",
       "2   16   38     57   54   63   71   74   84   97   91 ...     65     59   \n",
       "3   10   22     41   48   51   51   59   73   76   79 ...    119    103   \n",
       "4   91   91     91   88   70   66   76   91  108  132 ...     80     70   \n",
       "\n",
       "   141.7  63.3  53.7  49.1  51.3  65.2  64.3  1  \n",
       "0    141    65    53    56    61    51    58  2  \n",
       "1    149   102    50    56    50    60    70  3  \n",
       "2     45    61    70    61    64    60    58  4  \n",
       "3     90    81    76    53    30    33    36  5  \n",
       "4     68    70    72    67    72    91   112  4  \n",
       "\n",
       "[5 rows x 785 columns]"
      ]
     },
     "execution_count": 75,
     "metadata": {},
     "output_type": "execute_result"
    }
   ],
   "source": []
  },
  {
   "cell_type": "code",
   "execution_count": null,
   "metadata": {},
   "outputs": [],
   "source": []
  }
 ],
 "metadata": {
  "kernelspec": {
   "display_name": "Python 3",
   "language": "python",
   "name": "python3"
  },
  "language_info": {
   "codemirror_mode": {
    "name": "ipython",
    "version": 3
   },
   "file_extension": ".py",
   "mimetype": "text/x-python",
   "name": "python",
   "nbconvert_exporter": "python",
   "pygments_lexer": "ipython3",
   "version": "3.6.6"
  }
 },
 "nbformat": 4,
 "nbformat_minor": 2
}
